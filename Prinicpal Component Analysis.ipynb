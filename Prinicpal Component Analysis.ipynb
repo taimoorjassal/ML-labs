{
  "cells": [
    {
      "cell_type": "markdown",
      "source": [
        "# Submission\n",
        "* Lab: 07\n",
        "\n",
        "\n",
        "* **Name**: Taimoor Arshad\n",
        "* **CMS**: 294035\n",
        "* **Class**: BESE-10B\n",
        "\n",
        "\n",
        "I didn't include screenshots for offline checking this time because you told me not to do so."
      ],
      "metadata": {
        "id": "CfX5dk9iUPWn"
      }
    },
    {
      "cell_type": "markdown",
      "metadata": {
        "id": "1XtagXqzwzJU"
      },
      "source": [
        "## Principal Component Analysis\n",
        "Principal Component Analysis, or PCA, is a dimensionality-reduction method that is often used to reduce the dimensionality of large data sets, by transforming a large set of variables into a smaller one that still contains most of the information in the large set.\n",
        "\n",
        "In this lab you will apply PCA to reduce the dimensionality of two datasets:\n",
        " - The first dataset is two-dimensional data and the objective is to reduce it to 1D.\n",
        " - The second dataset is a 16-dimensional (8x8) mnist dataset. "
      ]
    },
    {
      "cell_type": "markdown",
      "metadata": {
        "id": "aQJtP125wzJb"
      },
      "source": [
        "## Reduce data from 2D to 1D\n",
        "We are given the following data and the objective is to reduce the dimensions from 2 to 1"
      ]
    },
    {
      "cell_type": "code",
      "execution_count": 8,
      "metadata": {
        "id": "MZNHAGBfwzJc",
        "colab": {
          "base_uri": "https://localhost:8080/",
          "height": 229
        },
        "outputId": "9a9d5431-dd65-4e8f-bb2c-2ad91dae34dc"
      },
      "outputs": [
        {
          "output_type": "execute_result",
          "data": {
            "text/plain": [
              "(-4.332879249134067, 14.250346324988804, -2.891929996825529, 6.216534855050493)"
            ]
          },
          "metadata": {},
          "execution_count": 8
        },
        {
          "output_type": "display_data",
          "data": {
            "text/plain": [
              "<Figure size 432x288 with 1 Axes>"
            ],
            "image/png": "[encoded data removed]"
          },
          "metadata": {
            "needs_background": "light"
          }
        }
      ],
      "source": [
        "import numpy as np\n",
        "from matplotlib import pyplot as plt\n",
        "from sklearn import preprocessing\n",
        "\n",
        "np.random.seed(0)\n",
        "X = np.random.multivariate_normal(mean=[5,2], cov = [[10,4],[4,2]], size=500)\n",
        "\n",
        "plt.plot(X[:,0], X[:,1], '.')\n",
        "plt.axis('scaled')"
      ]
    },
    {
      "cell_type": "code",
      "execution_count": 9,
      "metadata": {
        "id": "BnoTYInswzJe",
        "colab": {
          "base_uri": "https://localhost:8080/"
        },
        "outputId": "060d69d8-939b-420a-eef0-fe9dba8f9ceb"
      },
      "outputs": [
        {
          "output_type": "stream",
          "name": "stdout",
          "text": [
            "The total variance present in the data is 11.41\n"
          ]
        }
      ],
      "source": [
        "C = np.cov(X.T)\n",
        "total_variance = np.trace(C)\n",
        "print('The total variance present in the data is {:.2f}'.format(total_variance))"
      ]
    },
    {
      "cell_type": "code",
      "execution_count": 10,
      "metadata": {
        "id": "HqWGxo0UwzJf",
        "colab": {
          "base_uri": "https://localhost:8080/"
        },
        "outputId": "55a4ab51-c925-486c-86e1-83b5ec743e56"
      },
      "outputs": [
        {
          "output_type": "stream",
          "name": "stdout",
          "text": [
            "Keeping the first or second dimension will result in the variance of 9.49 and 1.93 respectively\n",
            "This will result in loss of 1.93 and 9.49 variance respectively\n",
            "We will use PCA to do better than this\n"
          ]
        }
      ],
      "source": [
        "variance_1st_dim = np.cov(X[:,0].T)\n",
        "variance_2nd_dim = np.cov(X[:,1].T)\n",
        "\n",
        "print('Keeping the first or second dimension will result in the variance of {:.2f} and {:.2f} respectively'.format(variance_1st_dim, variance_2nd_dim))\n",
        "print('This will result in loss of {:.2f} and {:.2f} variance respectively'.format(total_variance-variance_1st_dim, total_variance-variance_2nd_dim))\n",
        "print('We will use PCA to do better than this')"
      ]
    },
    {
      "cell_type": "markdown",
      "metadata": {
        "id": "n6174lYiwzJf"
      },
      "source": [
        "### Implement PCA"
      ]
    },
    {
      "cell_type": "code",
      "execution_count": 11,
      "metadata": {
        "id": "c15YAOemwzJg"
      },
      "outputs": [],
      "source": [
        "\n",
        "# todo\n",
        "\n",
        "class PCA():\n",
        "    def __init__(self, X):\n",
        "        \n",
        "        self.dim = X.shape[-1]\n",
        "        \n",
        "        #TODO: Implement PCA\n",
        "        # 1. compute mean of X\n",
        "        # self.m = ...\n",
        "        self.m = X.mean()\n",
        "        \n",
        "        # 2. Subtract mean from X\n",
        "        Xbar = (X-self.m)\n",
        "        \n",
        "        # 3. Compute covariance and svd to find Principal components\n",
        "        # C = ...\n",
        "        C = np.cov(Xbar.T)\n",
        "        # self.V, self.D, _ = ...\n",
        "        self.V, self.D, _ = np.linalg.svd(C)        \n",
        "        \n",
        "    def projection(self, X, n_pc): # n_pc is the number of components to project onto\n",
        "        if n_pc > self.dim:\n",
        "            print('No of PCs more than the dims')\n",
        "            return -1\n",
        "        \n",
        "        # 1. subtract mean\n",
        "        # Xbar = ...\n",
        "        Xbar = X - self.m\n",
        "        # 2. Project onto V\n",
        "        # Z = ...\n",
        "        V_reduce = self.V[:, :n_pc]\n",
        "        Z = Xbar.dot(V_reduce)\n",
        "        \n",
        "        return Z\n",
        "    \n",
        "    def reconstruction(self, Z): # n_pc is the number of components to project onto\n",
        "        n_pc = Z.shape[-1]\n",
        "        \n",
        "        # 1. Reconstruction\n",
        "        # X_recon = ...\n",
        "        V_reduce = self.V[:, :n_pc]\n",
        "        X_recon = Z.dot(V_reduce.T) + self.m\n",
        "        \n",
        "        return X_recon\n"
      ]
    },
    {
      "cell_type": "markdown",
      "metadata": {
        "id": "yNlPMWOVwzJh"
      },
      "source": [
        "### Applying PCA to the above 2D data"
      ]
    },
    {
      "cell_type": "code",
      "execution_count": 12,
      "metadata": {
        "id": "zkReBVMuwzJi"
      },
      "outputs": [],
      "source": [
        "pca_2d = PCA(X)\n",
        "Z = pca_2d.projection(X, 1)\n",
        "X_recon = pca_2d.reconstruction(Z)"
      ]
    },
    {
      "cell_type": "code",
      "execution_count": 13,
      "metadata": {
        "id": "CW8xBOrowzJj",
        "colab": {
          "base_uri": "https://localhost:8080/",
          "height": 297
        },
        "outputId": "0c3716e3-0356-420b-827d-ddd8f1e7b9c9"
      },
      "outputs": [
        {
          "output_type": "stream",
          "name": "stdout",
          "text": [
            "Keeping the first principal component will result in the variance of 11.07\n",
            "This resulted in loss of 0.34 variance, much better than before\n"
          ]
        },
        {
          "output_type": "display_data",
          "data": {
            "text/plain": [
              "<Figure size 864x576 with 2 Axes>"
            ],
            "image/png": "[encoded data removed]"
          },
          "metadata": {
            "needs_background": "light"
          }
        }
      ],
      "source": [
        "# Plotting the original and reconstructed points\n",
        "f = plt.figure(figsize=[12,8])\n",
        "plt.subplot(221)\n",
        "plt.plot(X[:,0], X[:,1], '.')\n",
        "plt.axis('scaled')\n",
        "plt.xlim(0, 12)\n",
        "plt.ylim(-2, 6)\n",
        "plt.title('Original X')\n",
        "\n",
        "plt.subplot(222)\n",
        "plt.plot(X_recon[:,0], X_recon[:,1], '.')\n",
        "plt.axis('scaled')\n",
        "plt.xlim(0, 12)\n",
        "plt.ylim(-2, 6)\n",
        "plt.title('Reconstructed X');\n",
        "\n",
        "print('Keeping the first principal component will result in the variance of {:.2f}'.format(pca_2d.D[0]))\n",
        "print('This resulted in loss of {:.2f} variance, much better than before'.format(pca_2d.D[1]))"
      ]
    },
    {
      "cell_type": "markdown",
      "metadata": {
        "id": "w0sDTlpRwzJk"
      },
      "source": [
        "## MNIST Dataset"
      ]
    },
    {
      "cell_type": "code",
      "execution_count": 16,
      "metadata": {
        "id": "DYsJQRLPwzJk",
        "colab": {
          "base_uri": "https://localhost:8080/",
          "height": 97
        },
        "outputId": "ed7f6a13-b6cd-452d-d030-ff9e6eddfb2f"
      },
      "outputs": [
        {
          "output_type": "display_data",
          "data": {
            "text/plain": [
              "<Figure size 1008x288 with 10 Axes>"
            ],
            "image/png": "[encoded data removed]"
          },
          "metadata": {
            "needs_background": "light"
          }
        }
      ],
      "source": [
        "import numpy as np\n",
        "from matplotlib import pyplot as plt\n",
        "from sklearn.datasets import load_digits\n",
        "import numpy as np\n",
        "from matplotlib import pyplot as plt\n",
        "\n",
        "# loading the dataset\n",
        "from sklearn.datasets import load_digits\n",
        "mnist = load_digits()\n",
        "X = mnist.images\n",
        "\n",
        "# # Display some digits\n",
        "plt.figure(figsize = [14,4])\n",
        "for i in range(10):\n",
        "    plt.subplot(1,10,i+1)\n",
        "    plt.imshow(X[i], cmap='gray');\n",
        "    plt.axis('off')"
      ]
    },
    {
      "cell_type": "markdown",
      "metadata": {
        "id": "PZd4Fj56wzJl"
      },
      "source": [
        "### Applying PCA to MNIST image dataset\n",
        "Apply PCA to mnist dataset by first applying PCA using the algorithm implemented above. You will need to vectorize the data before passing it to the class PCA. Each image is of size 8x8, so after vectorization your data matrix size would be mx64, where m is the total number of images. \n",
        "\n",
        "Plot the eigenvalues/variance of data along each principal component. You will notice that only few of the 64 eigenvalues are signifant and therefore you reduce the dimension from 64. Determine the number of principal components/eigen vectors to retain so that you keep 99% of the variance present in the dataset "
      ]
    },
    {
      "cell_type": "code",
      "execution_count": 20,
      "metadata": {
        "id": "_MH617K0wzJm",
        "colab": {
          "base_uri": "https://localhost:8080/",
          "height": 279
        },
        "outputId": "2c89e9b0-05f8-4ba7-b75b-a8d03d175feb"
      },
      "outputs": [
        {
          "output_type": "display_data",
          "data": {
            "text/plain": [
              "<Figure size 432x288 with 1 Axes>"
            ],
            "image/png": "[encoded data removed]"
          },
          "metadata": {
            "needs_background": "light"
          }
        }
      ],
      "source": [
        "# todo\n",
        "\n",
        "#Reshaping and forming vectors\n",
        "X = np.reshape(X,(-1, 64))\n",
        "\n",
        "# Applying PCA to the data now\n",
        "# Using the class created before\n",
        "pca_x = PCA(X)\n",
        "\n",
        "# Plotting the Eigen Values of data\n",
        "plt.plot(pca_x.D)\n",
        "plt.xlabel(\"Principal Component Labels\")\n",
        "plt.ylabel(\"Eigen Values\")\n",
        "plt.show()\n",
        "\n",
        "\n"
      ]
    },
    {
      "cell_type": "code",
      "source": [
        "# Choosing the number of principal components that help keep 99% variance\n",
        "for pca_vars in range(1,65):\n",
        "  variance = sum(pca_x.D[:pca_vars])/ sum(pca_x.D)\n",
        "  if (variance >= 0.99):\n",
        "    break;\n",
        "  \n",
        "print('Total number of principal variables to keep 99% of varaince are {0:d} for {1:0.5f}% variance'.format(pca_vars, variance*100))\n"
      ],
      "metadata": {
        "colab": {
          "base_uri": "https://localhost:8080/"
        },
        "id": "nul7nl3gKmMg",
        "outputId": "481f3c2f-30e6-4e1b-8d64-10433af5b151"
      },
      "execution_count": 26,
      "outputs": [
        {
          "output_type": "stream",
          "name": "stdout",
          "text": [
            "Total number of principal variables to keep 99% of varaince are 41 for 99.01018% variance\n"
          ]
        }
      ]
    },
    {
      "cell_type": "markdown",
      "metadata": {
        "id": "MXaCxVFJwzJm"
      },
      "source": [
        "### Show the reconstructed images\n",
        "Reconstruct the MNIST data using the principal components that will ensure that 99% of the variance is kept."
      ]
    },
    {
      "cell_type": "code",
      "execution_count": 33,
      "metadata": {
        "id": "ximm_0LlwzJm"
      },
      "outputs": [],
      "source": [
        "# todo\n",
        "\n",
        "# Reconstructing the Dataset\n",
        "Z = pca_x.projection(X, pca_vars)\n",
        "\n",
        "X_reconstructed = pca_x.reconstruction(Z)\n",
        "X_reconstructed = np.reshape(X_reconstructed, (-1, 8, 8))"
      ]
    },
    {
      "cell_type": "code",
      "source": [
        "# Displaying Original Dataset\n",
        "\n",
        "randnums= np.random.randint(1,20,5)\n",
        "# Display original digits\n",
        "plt.figure(figsize = [14,4])\n",
        "for i in range(10):\n",
        "    plt.subplot(1,10,i+1)\n",
        "    plt.imshow(mnist.images[i], cmap='gray');\n",
        "    plt.axis('off')\n",
        "plt.title('Original X');\n",
        "\n",
        "# Display reconstructed digits\n",
        "plt.figure(figsize = [14,4])\n",
        "for i in range(10):\n",
        "    plt.subplot(1,10,i+1)\n",
        "    plt.imshow(X_reconstructed[i], cmap='gray');\n",
        "    plt.axis('off')\n",
        "plt.title('Reconstructed X');"
      ],
      "metadata": {
        "colab": {
          "base_uri": "https://localhost:8080/",
          "height": 209
        },
        "id": "5plitS-8MsBF",
        "outputId": "cf19f5e8-ac48-4279-a951-73626519a260"
      },
      "execution_count": 50,
      "outputs": [
        {
          "output_type": "display_data",
          "data": {
            "text/plain": [
              "<Figure size 1008x288 with 10 Axes>"
            ],
            "image/png": "[encoded data removed]"
          },
          "metadata": {
            "needs_background": "light"
          }
        },
        {
          "output_type": "display_data",
          "data": {
            "text/plain": [
              "<Figure size 1008x288 with 10 Axes>"
            ],
            "image/png": "[encoded data removed]"
          },
          "metadata": {
            "needs_background": "light"
          }
        }
      ]
    },
    {
      "cell_type": "code",
      "source": [
        ""
      ],
      "metadata": {
        "id": "6jC3RLRXM89a"
      },
      "execution_count": null,
      "outputs": []
    }
  ],
  "metadata": {
    "kernelspec": {
      "display_name": "Python 3",
      "language": "python",
      "name": "python3"
    },
    "language_info": {
      "codemirror_mode": {
        "name": "ipython",
        "version": 3
      },
      "file_extension": ".py",
      "mimetype": "text/x-python",
      "name": "python",
      "nbconvert_exporter": "python",
      "pygments_lexer": "ipython3",
      "version": "3.8.5"
    },
    "colab": {
      "name": "Lab7_294035_Taimoor Arshad.ipynb",
      "provenance": []
    }
  },
  "nbformat": 4,
  "nbformat_minor": 0
}